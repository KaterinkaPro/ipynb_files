{
 "cells": [
  {
   "cell_type": "markdown",
   "id": "7fb61531",
   "metadata": {},
   "source": [
    "# Задача 0 Оформление ноутбука \n",
    "## Номер задачи - заголовок 2\n",
    "### Номер подзадачи - заголовок 3\n"
   ]
  },
  {
   "cell_type": "markdown",
   "id": "e2c8e550",
   "metadata": {},
   "source": [
    "# Задача 1\n",
    "## Условие 2:\n",
    "На складе лежат разные фрукты в разном количестве.\n",
    "Нужно написать функцию, которая на вход принимает любое количество названий фруктов и их количество, а возвращает общее количество фруктов на складе"
   ]
  },
  {
   "cell_type": "code",
   "execution_count": 1,
   "id": "cc408305",
   "metadata": {},
   "outputs": [],
   "source": [
    "def fruits (**kwargs):\n",
    "    total_fruits = sum(kwargs.values())\n",
    "    return f'Total fruits: {total_fruits}'"
   ]
  },
  {
   "cell_type": "code",
   "execution_count": 2,
   "id": "5f5978be",
   "metadata": {},
   "outputs": [
    {
     "name": "stdout",
     "output_type": "stream",
     "text": [
      "Total fruits: 54\n"
     ]
    }
   ],
   "source": [
    "print(fruits(яблоки=2, груши = 12, вишня = 40))"
   ]
  },
  {
   "cell_type": "markdown",
   "id": "e12f15a5",
   "metadata": {},
   "source": [
    "# Задача 2:\n",
    "Дан список с затратами на рекламу. Но в данных есть ошибки, некоторые затраты имеют отрицательную величину. Удалите такие значения из списка и посчитайте суммарные затраты\n",
    "[100, 125, -90, 345, 655, -1, 0, 200]\n",
    "Используйте list comprehensions"
   ]
  },
  {
   "cell_type": "code",
   "execution_count": 3,
   "id": "3462ea49",
   "metadata": {},
   "outputs": [
    {
     "name": "stdout",
     "output_type": "stream",
     "text": [
      "[100, 125, 345, 655, 200]\n"
     ]
    }
   ],
   "source": [
    "list_one = [100, 125, -90, 345, 655, -1, 0, 200]\n",
    "list_second = []\n",
    "for i in list_one:\n",
    "    if i > 0:\n",
    "        list_second.append(i)\n",
    "print (list_second)        "
   ]
  },
  {
   "cell_type": "code",
   "execution_count": 4,
   "id": "d2f8c882",
   "metadata": {},
   "outputs": [
    {
     "data": {
      "text/plain": [
       "[100, 125, 345, 655, 200]"
      ]
     },
     "execution_count": 4,
     "metadata": {},
     "output_type": "execute_result"
    }
   ],
   "source": [
    "data_list = [i for i in list_one if i > 0]\n",
    "data_list"
   ]
  },
  {
   "cell_type": "markdown",
   "id": "e1e7d9ee",
   "metadata": {},
   "source": [
    "# Задача 3:\n",
    "Даны два списка.\n",
    "Дата покупки\n",
    "<br>\n",
    "['2021-09-14', '2021-12-15', '2021-09-08', '2021-12-05', '2021-10-09', '2021-09-30', '2021-12-22', '2021-11-29', '2021-12-24', '2021-11-26', '2021-10-27', '2021-12-18', '2021-11-09', '2021-11-23', '2021-09-27', '2021-10-02', '2021-12-27', '2021-09-20', '2021-12-13', '2021-11-01', '2021-11-09', '2021-12-06', '2021-12-08', '2021-10-09', '2021-10-31', '2021-09-30', '2021-11-09', '2021-12-13', '2021-10-26', '2021-12-09']\n",
    "<br>\n",
    "Суммы покупок по датам\n",
    "<br>\n",
    "[1270, 8413, 9028, 3703, 5739, 4095, 295, 4944, 5723, 3701, 4471, 651, 7037, 4274, 6275, 4988, 6930, 2971, 6592, 2004, 2822, 519, 3406, 2732, 5015, 2008, 316, 6333, 5700, 2887]"
   ]
  },
  {
   "cell_type": "code",
   "execution_count": 5,
   "id": "d6c69a3f",
   "metadata": {},
   "outputs": [],
   "source": [
    "date_list = ['2021-09-14', '2021-12-15', '2021-09-08', '2021-12-05', '2021-10-09', '2021-09-30', '2021-12-22', '2021-11-29', \n",
    "            '2021-12-24', '2021-11-26', '2021-10-27', '2021-12-18', '2021-11-09', '2021-11-23', '2021-09-27', '2021-10-02', \n",
    "            '2021-12-27', '2021-09-20', '2021-12-13', '2021-11-01', '2021-11-09', '2021-12-06', '2021-12-08', '2021-10-09', \n",
    "            '2021-10-31', '2021-09-30', '2021-11-09', '2021-12-13', '2021-10-26', '2021-12-09']\n",
    "sum_cost_date = [1270, 8413, 9028, 3703, 5739, 4095, 295, 4944, 5723, 3701, 4471, 651, 7037, 4274, 6275, 4988, 6930, 2971, 6592,\n",
    "                 2004, 2822, 519, 3406, 2732, 5015, 2008, 316, 6333, 5700, 2887]"
   ]
  },
  {
   "cell_type": "markdown",
   "id": "14e29bcb",
   "metadata": {},
   "source": [
    "### 4.1 Найдите, какая выручка у компании в ноябре\n",
    "Используйте list comprehensions"
   ]
  },
  {
   "cell_type": "code",
   "execution_count": 6,
   "id": "dbb0b6a0",
   "metadata": {},
   "outputs": [],
   "source": [
    "def november(data1: list, data2: list) -> list:\n",
    "    \n",
    "    new_data_list = []\n",
    "    \n",
    "    for i in range(len(data1)-1):\n",
    "        if '-11-' in data1[i]:\n",
    "            new_data_list.append(data2[i])\n",
    "            \n",
    "    return new_data_list"
   ]
  },
  {
   "cell_type": "code",
   "execution_count": 7,
   "id": "1cf3b1ae",
   "metadata": {},
   "outputs": [
    {
     "name": "stdout",
     "output_type": "stream",
     "text": [
      "[4944, 3701, 7037, 4274, 2004, 2822, 316]\n",
      "Profit: 25098\n"
     ]
    }
   ],
   "source": [
    "print(november(date_list, sum_cost_date))\n",
    "print(f'Profit: {sum(november(date_list, sum_cost_date))}')"
   ]
  },
  {
   "cell_type": "markdown",
   "id": "42ae7443",
   "metadata": {},
   "source": [
    "### 4.2 Найдите выручку компании в зависимости от месяца\n",
    "Для этого напишите функцию, которая на вход принимает список с датами и список с выручкой, а на выходе словарь, где ключи - это месяцы, а значения - это выручка.\n",
    "Используйте аннотирование типов."
   ]
  },
  {
   "cell_type": "code",
   "execution_count": 11,
   "id": "529198e1",
   "metadata": {},
   "outputs": [
    {
     "name": "stdout",
     "output_type": "stream",
     "text": [
      "{'09': 25647, '12': 45452, '10': 28645, '11': 25098}\n"
     ]
    }
   ],
   "source": [
    "def profits(data1: list, data2: list) -> dict:\n",
    "    \n",
    "    profits = {}\n",
    "    \n",
    "    for i in range(len(data1)):\n",
    "        \n",
    "        if date_list[i].split('-')[1] in profits.keys():\n",
    "            profits[date_list[i].split('-')[1]] += sum_cost_date[i]\n",
    "        else:\n",
    "            profits[date_list[i].split('-')[1]] = sum_cost_date[i]\n",
    "            \n",
    "    return profits\n",
    "\n",
    "print(profits(date_list, sum_cost_date))"
   ]
  },
  {
   "cell_type": "code",
   "execution_count": null,
   "id": "dbf52860",
   "metadata": {},
   "outputs": [],
   "source": []
  }
 ],
 "metadata": {
  "kernelspec": {
   "display_name": "Python 3 (ipykernel)",
   "language": "python",
   "name": "python3"
  },
  "language_info": {
   "codemirror_mode": {
    "name": "ipython",
    "version": 3
   },
   "file_extension": ".py",
   "mimetype": "text/x-python",
   "name": "python",
   "nbconvert_exporter": "python",
   "pygments_lexer": "ipython3",
   "version": "3.10.9"
  }
 },
 "nbformat": 4,
 "nbformat_minor": 5
}
